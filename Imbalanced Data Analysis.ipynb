{
 "cells": [
  {
   "cell_type": "markdown",
   "metadata": {},
   "source": [
    "## Imbalanced Data Experiments"
   ]
  },
  {
   "cell_type": "markdown",
   "metadata": {},
   "source": [
    "**Amélie Buc** / *August 2018* / Imbalanced data set with classification."
   ]
  },
  {
   "cell_type": "markdown",
   "metadata": {},
   "source": [
    "## Import Packages"
   ]
  },
  {
   "cell_type": "code",
   "execution_count": 1,
   "metadata": {},
   "outputs": [],
   "source": [
    "import pandas as pd\n",
    "import matplotlib.pyplot as plt\n",
    "import numpy as np\n",
    "from sklearn.model_selection import train_test_split\n",
    "from sklearn import tree, metrics\n",
    "from sklearn.ensemble import RandomForestClassifier\n",
    "from imblearn.over_sampling import SMOTE"
   ]
  },
  {
   "cell_type": "markdown",
   "metadata": {},
   "source": [
    "## Read Data"
   ]
  },
  {
   "cell_type": "code",
   "execution_count": 2,
   "metadata": {
    "scrolled": true
   },
   "outputs": [
    {
     "data": {
      "text/html": [
       "<div>\n",
       "<style scoped>\n",
       "    .dataframe tbody tr th:only-of-type {\n",
       "        vertical-align: middle;\n",
       "    }\n",
       "\n",
       "    .dataframe tbody tr th {\n",
       "        vertical-align: top;\n",
       "    }\n",
       "\n",
       "    .dataframe thead th {\n",
       "        text-align: right;\n",
       "    }\n",
       "</style>\n",
       "<table border=\"1\" class=\"dataframe\">\n",
       "  <thead>\n",
       "    <tr style=\"text-align: right;\">\n",
       "      <th></th>\n",
       "      <th>Label</th>\n",
       "      <th>b</th>\n",
       "      <th>c</th>\n",
       "      <th>d</th>\n",
       "      <th>e</th>\n",
       "      <th>f</th>\n",
       "      <th>g</th>\n",
       "      <th>h</th>\n",
       "      <th>i</th>\n",
       "      <th>j</th>\n",
       "      <th>k</th>\n",
       "      <th>l</th>\n",
       "      <th>m</th>\n",
       "    </tr>\n",
       "  </thead>\n",
       "  <tbody>\n",
       "    <tr>\n",
       "      <th>count</th>\n",
       "      <td>24844.000000</td>\n",
       "      <td>24844.000000</td>\n",
       "      <td>24844.000000</td>\n",
       "      <td>24844.000000</td>\n",
       "      <td>24844.000000</td>\n",
       "      <td>24844.000000</td>\n",
       "      <td>24844.000000</td>\n",
       "      <td>24844.000000</td>\n",
       "      <td>24844.000000</td>\n",
       "      <td>24844.000000</td>\n",
       "      <td>2.484400e+04</td>\n",
       "      <td>24844.000000</td>\n",
       "      <td>24844.000000</td>\n",
       "    </tr>\n",
       "    <tr>\n",
       "      <th>mean</th>\n",
       "      <td>0.040211</td>\n",
       "      <td>36.845979</td>\n",
       "      <td>1.288118</td>\n",
       "      <td>1.564845</td>\n",
       "      <td>15.765939</td>\n",
       "      <td>7.881702</td>\n",
       "      <td>72.928192</td>\n",
       "      <td>3.200935</td>\n",
       "      <td>736.620633</td>\n",
       "      <td>951.564281</td>\n",
       "      <td>2.253277e+03</td>\n",
       "      <td>1.953510</td>\n",
       "      <td>0.339961</td>\n",
       "    </tr>\n",
       "    <tr>\n",
       "      <th>std</th>\n",
       "      <td>0.196458</td>\n",
       "      <td>13.241031</td>\n",
       "      <td>0.453162</td>\n",
       "      <td>0.496761</td>\n",
       "      <td>26.337659</td>\n",
       "      <td>18.785623</td>\n",
       "      <td>40.728075</td>\n",
       "      <td>6.440581</td>\n",
       "      <td>292.545306</td>\n",
       "      <td>749.563452</td>\n",
       "      <td>1.403404e+04</td>\n",
       "      <td>0.642311</td>\n",
       "      <td>0.473705</td>\n",
       "    </tr>\n",
       "    <tr>\n",
       "      <th>min</th>\n",
       "      <td>0.000000</td>\n",
       "      <td>18.676712</td>\n",
       "      <td>0.000000</td>\n",
       "      <td>0.000000</td>\n",
       "      <td>0.000000</td>\n",
       "      <td>1.000000</td>\n",
       "      <td>0.000000</td>\n",
       "      <td>0.000000</td>\n",
       "      <td>1.000000</td>\n",
       "      <td>0.000000</td>\n",
       "      <td>0.000000e+00</td>\n",
       "      <td>1.000000</td>\n",
       "      <td>0.000000</td>\n",
       "    </tr>\n",
       "    <tr>\n",
       "      <th>25%</th>\n",
       "      <td>0.000000</td>\n",
       "      <td>25.920548</td>\n",
       "      <td>1.000000</td>\n",
       "      <td>1.000000</td>\n",
       "      <td>0.000000</td>\n",
       "      <td>2.000000</td>\n",
       "      <td>27.000000</td>\n",
       "      <td>0.000000</td>\n",
       "      <td>743.000000</td>\n",
       "      <td>0.000000</td>\n",
       "      <td>8.500000e+02</td>\n",
       "      <td>2.000000</td>\n",
       "      <td>0.000000</td>\n",
       "    </tr>\n",
       "    <tr>\n",
       "      <th>50%</th>\n",
       "      <td>0.000000</td>\n",
       "      <td>34.178082</td>\n",
       "      <td>1.000000</td>\n",
       "      <td>2.000000</td>\n",
       "      <td>8.000000</td>\n",
       "      <td>2.000000</td>\n",
       "      <td>99.000000</td>\n",
       "      <td>0.000000</td>\n",
       "      <td>826.000000</td>\n",
       "      <td>1271.000000</td>\n",
       "      <td>1.200000e+03</td>\n",
       "      <td>2.000000</td>\n",
       "      <td>0.000000</td>\n",
       "    </tr>\n",
       "    <tr>\n",
       "      <th>75%</th>\n",
       "      <td>0.000000</td>\n",
       "      <td>45.328767</td>\n",
       "      <td>2.000000</td>\n",
       "      <td>2.000000</td>\n",
       "      <td>8.000000</td>\n",
       "      <td>8.000000</td>\n",
       "      <td>99.000000</td>\n",
       "      <td>3.317808</td>\n",
       "      <td>904.000000</td>\n",
       "      <td>1624.000000</td>\n",
       "      <td>2.050000e+03</td>\n",
       "      <td>2.000000</td>\n",
       "      <td>1.000000</td>\n",
       "    </tr>\n",
       "    <tr>\n",
       "      <th>max</th>\n",
       "      <td>1.000000</td>\n",
       "      <td>95.476712</td>\n",
       "      <td>2.000000</td>\n",
       "      <td>2.000000</td>\n",
       "      <td>81.000000</td>\n",
       "      <td>99.000000</td>\n",
       "      <td>99.000000</td>\n",
       "      <td>56.356164</td>\n",
       "      <td>1138.000000</td>\n",
       "      <td>1900.000000</td>\n",
       "      <td>2.000000e+06</td>\n",
       "      <td>3.000000</td>\n",
       "      <td>1.000000</td>\n",
       "    </tr>\n",
       "  </tbody>\n",
       "</table>\n",
       "</div>"
      ],
      "text/plain": [
       "              Label             b             c             d             e  \\\n",
       "count  24844.000000  24844.000000  24844.000000  24844.000000  24844.000000   \n",
       "mean       0.040211     36.845979      1.288118      1.564845     15.765939   \n",
       "std        0.196458     13.241031      0.453162      0.496761     26.337659   \n",
       "min        0.000000     18.676712      0.000000      0.000000      0.000000   \n",
       "25%        0.000000     25.920548      1.000000      1.000000      0.000000   \n",
       "50%        0.000000     34.178082      1.000000      2.000000      8.000000   \n",
       "75%        0.000000     45.328767      2.000000      2.000000      8.000000   \n",
       "max        1.000000     95.476712      2.000000      2.000000     81.000000   \n",
       "\n",
       "                  f             g             h             i             j  \\\n",
       "count  24844.000000  24844.000000  24844.000000  24844.000000  24844.000000   \n",
       "mean       7.881702     72.928192      3.200935    736.620633    951.564281   \n",
       "std       18.785623     40.728075      6.440581    292.545306    749.563452   \n",
       "min        1.000000      0.000000      0.000000      1.000000      0.000000   \n",
       "25%        2.000000     27.000000      0.000000    743.000000      0.000000   \n",
       "50%        2.000000     99.000000      0.000000    826.000000   1271.000000   \n",
       "75%        8.000000     99.000000      3.317808    904.000000   1624.000000   \n",
       "max       99.000000     99.000000     56.356164   1138.000000   1900.000000   \n",
       "\n",
       "                  k             l             m  \n",
       "count  2.484400e+04  24844.000000  24844.000000  \n",
       "mean   2.253277e+03      1.953510      0.339961  \n",
       "std    1.403404e+04      0.642311      0.473705  \n",
       "min    0.000000e+00      1.000000      0.000000  \n",
       "25%    8.500000e+02      2.000000      0.000000  \n",
       "50%    1.200000e+03      2.000000      0.000000  \n",
       "75%    2.050000e+03      2.000000      1.000000  \n",
       "max    2.000000e+06      3.000000      1.000000  "
      ]
     },
     "execution_count": 2,
     "metadata": {},
     "output_type": "execute_result"
    }
   ],
   "source": [
    "# to access the location of the directory you are working in:\n",
    "# import os\n",
    "# print(os.getcwd())\n",
    "\n",
    "spreadsheet_file_path = \"/Users/ameliebuc/Documents/byond_internship/ImBlanced-Classification.csv\"\n",
    "data = pd.read_csv(spreadsheet_file_path, encoding = 'utf-8')\n",
    "data.describe()"
   ]
  },
  {
   "cell_type": "markdown",
   "metadata": {},
   "source": [
    "## Load Data"
   ]
  },
  {
   "cell_type": "code",
   "execution_count": 12,
   "metadata": {},
   "outputs": [
    {
     "name": "stdout",
     "output_type": "stream",
     "text": [
      "The data is imbalanced in the following way: \n",
      "0    23845\n",
      "1      999\n",
      "Name: Label, dtype: int64\n"
     ]
    }
   ],
   "source": [
    "# Set your prediction target and the features you'll need to predict instances\n",
    "y = data.Label\n",
    "# take out b, c and m\n",
    "data_features = ['d', 'e', 'f', 'g','h', 'i', 'j', 'k', 'l']\n",
    "\n",
    "# Store the data corresponding to data_features in the dictionary data to X\n",
    "X = data[data_features]\n",
    "\n",
    "# How imbalanced is the data?\n",
    "imb_count = data.Label.value_counts()\n",
    "print(\"The data is imbalanced in the following way: \\n{}\".format(imb_count))\n",
    "\n",
    "# Split data into sets for testing and for validation to make accuracy be represented right\n",
    "# One issue is that the data is orderered (most 1s at end) so RANDOMIZE splitting \n",
    "#   to make sure some 1s go into each set\n",
    "train_X, val_X, train_y, val_y = train_test_split(X,y,test_size=0.2,random_state=90)\n",
    "\n",
    "# Oversample (res=resample) the training data using SMOTE algorithm\n",
    "sm = SMOTE(random_state=12)\n",
    "x_train_res, y_train_res = sm.fit_sample(train_X, train_y)\n"
   ]
  },
  {
   "cell_type": "markdown",
   "metadata": {},
   "source": [
    "## Build Model"
   ]
  },
  {
   "cell_type": "code",
   "execution_count": 15,
   "metadata": {},
   "outputs": [
    {
     "name": "stdout",
     "output_type": "stream",
     "text": [
      "[0 0 0 ... 0 0 0]\n"
     ]
    }
   ],
   "source": [
    "# Create a Classifier\n",
    "model = RandomForestClassifier(n_estimators=200, criterion = \"gini\",random_state=3,class_weight=\"balanced\")\n",
    "\n",
    "# Train the model using the training sets \n",
    "model.fit(x_train_res, y_train_res)\n",
    "\n",
    "# Predict Output \n",
    "predicted= model.predict(val_X)\n",
    "print (predicted)\n"
   ]
  },
  {
   "cell_type": "markdown",
   "metadata": {},
   "source": [
    "## Performance Metrics"
   ]
  },
  {
   "cell_type": "code",
   "execution_count": 16,
   "metadata": {},
   "outputs": [
    {
     "name": "stdout",
     "output_type": "stream",
     "text": [
      "Accuracy: 0.92090964\n",
      "Precision: 0.18000000   What proportion of positive identifications was actually correct?\n",
      "Recall: 0.26865672      What proportion of actual positives was identified correctly?\n"
     ]
    }
   ],
   "source": [
    "# Compute precision-recall score \n",
    "\n",
    "\n",
    "accuracy_measure = metrics.accuracy_score(val_y, predicted)\n",
    "\n",
    "print('Accuracy: {0:0.8f}'.format(accuracy_measure))\n",
    "\n",
    "precision_measure = metrics.precision_score(val_y,predicted)\n",
    "\n",
    "print('Precision: {0:0.8f}   What proportion of positive identifications was actually correct?'.format(precision_measure))\n",
    "\n",
    "recall_measure = metrics.recall_score(val_y,predicted)\n",
    "\n",
    "print('Recall: {0:0.8f}      What proportion of actual positives was identified correctly?'.format(recall_measure))"
   ]
  },
  {
   "cell_type": "markdown",
   "metadata": {},
   "source": [
    "## Further Task Ideas\n",
    "- Improve precision and recall.\n",
    "- Gridsearch\n",
    "- Check how 0 and 1 data compare per feature to see what features aren't needed because they don't make 0 and 1 be differentiated\n",
    "- Try new models (neural network: 10, 3 layers each)\n",
    "- Employ a learning curve"
   ]
  },
  {
   "cell_type": "code",
   "execution_count": null,
   "metadata": {},
   "outputs": [],
   "source": []
  }
 ],
 "metadata": {
  "kernelspec": {
   "display_name": "Python 3",
   "language": "python",
   "name": "python3"
  },
  "language_info": {
   "codemirror_mode": {
    "name": "ipython",
    "version": 3
   },
   "file_extension": ".py",
   "mimetype": "text/x-python",
   "name": "python",
   "nbconvert_exporter": "python",
   "pygments_lexer": "ipython3",
   "version": "3.6.5"
  }
 },
 "nbformat": 4,
 "nbformat_minor": 2
}
